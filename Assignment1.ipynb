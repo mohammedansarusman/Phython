{
 "cells": [
  {
   "cell_type": "markdown",
   "id": "1ba87aa3-45eb-4d14-8bf0-572769c20434",
   "metadata": {},
   "source": [
    "# Assignment 1"
   ]
  },
  {
   "cell_type": "markdown",
   "id": "63ed0d9d-153f-4b4f-a75c-65a05bdcfd36",
   "metadata": {},
   "source": [
    "* 1. Write a phython program to find those numbers are divisible by 7 and multiple of 5 between 1500 and 2700 ( both included)"
   ]
  },
  {
   "cell_type": "code",
   "execution_count": 1,
   "id": "40b1ef2f-1509-4a13-8ae4-3a206c2b7081",
   "metadata": {},
   "outputs": [
    {
     "name": "stdout",
     "output_type": "stream",
     "text": [
      "1505 1540 1575 1610 1645 1680 1715 1750 1785 1820 1855 1890 1925 1960 1995 2030 2065 2100 2135 2170 2205 2240 2275 2310 2345 2380 2415 2450 2485 2520 2555 2590 2625 2660 2695 "
     ]
    }
   ],
   "source": [
    "x=range(1500,2700)\n",
    "for i in x:\n",
    "    if i%7==0 and i%5==0:\n",
    "        print(i,end=\" \")\n",
    "        "
   ]
  },
  {
   "cell_type": "markdown",
   "id": "c45a9ce1-57d9-4b29-9121-17b1cd34d4be",
   "metadata": {},
   "source": [
    "* 2. Phython program to add two numbers"
   ]
  },
  {
   "cell_type": "code",
   "execution_count": 3,
   "id": "305d2a15-22cd-40ff-893f-cc3fb7417e22",
   "metadata": {},
   "outputs": [
    {
     "name": "stdin",
     "output_type": "stream",
     "text": [
      "Enter first value:  100\n",
      "Enter second value:  123\n"
     ]
    },
    {
     "name": "stdout",
     "output_type": "stream",
     "text": [
      "Result : 223\n"
     ]
    }
   ],
   "source": [
    "x=int(input(\"Enter first value: \"))\n",
    "y=int(input(\"Enter second value: \"))\n",
    "\n",
    "result=x+y\n",
    "\n",
    "print(\"Result :\",result)\n",
    "\n"
   ]
  },
  {
   "cell_type": "markdown",
   "id": "87db40c4-7f99-4c48-81bb-d44dc314a639",
   "metadata": {},
   "source": [
    "* 3. Find the maximum of two numbers in Phython"
   ]
  },
  {
   "cell_type": "code",
   "execution_count": 6,
   "id": "3c535ff0-a863-4712-a8b8-54a0ac88f45f",
   "metadata": {},
   "outputs": [
    {
     "name": "stdin",
     "output_type": "stream",
     "text": [
      "Enter val1:    150\n",
      "Enter val2:    200\n"
     ]
    },
    {
     "name": "stdout",
     "output_type": "stream",
     "text": [
      "Print val2 is bigger than val1\n"
     ]
    }
   ],
   "source": [
    "x=int(input(\"Enter val1:   \"))\n",
    "y=int(input(\"Enter val2:   \"))\n",
    "\n",
    "if x>y:\n",
    "    print(\"Print val1 is bigger than val2\")\n",
    "else:\n",
    "    print(\"Print val2 is bigger than val1\")\n",
    "\n"
   ]
  },
  {
   "cell_type": "markdown",
   "id": "d9539ead-8b6f-44bd-bb29-08d8180e24c3",
   "metadata": {},
   "source": [
    "* 4. Phython program for Factorial of number"
   ]
  },
  {
   "cell_type": "code",
   "execution_count": 15,
   "id": "c77eb6bc-5155-4874-a3b7-29ba892476c6",
   "metadata": {},
   "outputs": [
    {
     "name": "stdin",
     "output_type": "stream",
     "text": [
      "Enter the number that you want to find Factorial: 5\n"
     ]
    },
    {
     "name": "stdout",
     "output_type": "stream",
     "text": [
      "120\n"
     ]
    }
   ],
   "source": [
    "x=int(input(\"Enter the number that you want to find Factorial:\"))\n",
    "rng=range(x,0,-1)\n",
    "sm=1\n",
    "for i in rng:\n",
    "    sm=i*sm\n",
    "    if i in rng:\n",
    "        continue\n",
    "    else:\n",
    "        break\n",
    "        \n",
    "print(sm)\n",
    "    \n",
    "    "
   ]
  },
  {
   "cell_type": "markdown",
   "id": "115ad86b-0ff0-4b9c-8fed-6c489a971daa",
   "metadata": {},
   "source": [
    "* 5. Phython program for simple interest\n",
    "\n",
    "P is pricipal amount\n",
    "R is rate of interest\n",
    "T is number of years\n",
    "\n",
    "Simple Interest = (P+R+T)/100\n"
   ]
  },
  {
   "cell_type": "code",
   "execution_count": 22,
   "id": "584a30e1-b3a8-4e25-993a-49224a4b0dca",
   "metadata": {},
   "outputs": [
    {
     "name": "stdin",
     "output_type": "stream",
     "text": [
      "Enter Principal Amount:   1000\n",
      "Enter rate of Interest:   5\n",
      "Enter number of years:    3\n"
     ]
    },
    {
     "name": "stdout",
     "output_type": "stream",
     "text": [
      "Simple Ineterst:    150.0\n"
     ]
    }
   ],
   "source": [
    "p=int(input(\"Enter Principal Amount:  \"))\n",
    "r=int(input(\"Enter rate of Interest:  \"))\n",
    "t=int(input(\"Enter number of years:   \"))\n",
    "\n",
    "si=(p*r*t)/100\n",
    "\n",
    "print(\"Simple Interst:   \",si)"
   ]
  },
  {
   "cell_type": "markdown",
   "id": "1d45703e-da07-4ddb-8571-b5f3c6c2b787",
   "metadata": {},
   "source": [
    "* 6. Phython program for Compound Interest\n",
    "Compound Interest = Pricipal amount ( 1 + [rate of interest/100])^Years"
   ]
  },
  {
   "cell_type": "code",
   "execution_count": 41,
   "id": "3e320922-985a-4847-b58e-0c8cab84e2b0",
   "metadata": {},
   "outputs": [
    {
     "name": "stdin",
     "output_type": "stream",
     "text": [
      "Enter Principal Amount:    10000\n"
     ]
    },
    {
     "name": "stdout",
     "output_type": "stream",
     "text": [
      "\n"
     ]
    },
    {
     "name": "stdin",
     "output_type": "stream",
     "text": [
      "Enter Rate of Interest:       10\n"
     ]
    },
    {
     "name": "stdout",
     "output_type": "stream",
     "text": [
      "\n"
     ]
    },
    {
     "name": "stdin",
     "output_type": "stream",
     "text": [
      "Enter number of years:        5\n"
     ]
    },
    {
     "name": "stdout",
     "output_type": "stream",
     "text": [
      "\n",
      "Compount Interest :                       6105.100000000006\n"
     ]
    }
   ],
   "source": [
    "principal=int(input(\"Enter Principal Amount:   \"))\n",
    "print(\"\")\n",
    "rate=float(input(\"Enter Rate of Interest:      \"))\n",
    "print(\"\")\n",
    "nYears=int(input(\"Enter number of years:       \"))\n",
    "\n",
    "comInt=(principal*((1+(rate/100))**nYears))-principal\n",
    "print(\"\")\n",
    "\n",
    "print(\"Compount Interest :                      \",comInt)\n"
   ]
  },
  {
   "cell_type": "markdown",
   "id": "0430fa8e-a71e-4889-a408-f73c06a5c0e7",
   "metadata": {},
   "source": [
    "* 7. Phython program for Armstrong number\n"
   ]
  },
  {
   "cell_type": "code",
   "execution_count": 5,
   "id": "d72c6715-61ed-4bbb-8a34-b062acf73c1b",
   "metadata": {},
   "outputs": [
    {
     "name": "stdin",
     "output_type": "stream",
     "text": [
      "Enter a Value:  2\n"
     ]
    },
    {
     "name": "stdout",
     "output_type": "stream",
     "text": [
      "The entered value is Armstrong Number 2\n"
     ]
    }
   ],
   "source": [
    "x=input(\"Enter a Value: \")\n",
    "l=len(x)\n",
    "sm=0\n",
    "\n",
    "i=0\n",
    "while i<l:\n",
    "    sm=sm+(int(x[i])**l)\n",
    "    i=i+1\n",
    "else:\n",
    "    if int(x)==sm:\n",
    "        print(\"The entered value is Armstrong Number\",sm)\n",
    "    else:\n",
    "        print(\"The entered value is not Armstrong Number\",sm)\n",
    "    \n",
    "    \n",
    "    \n",
    "\n",
    "    "
   ]
  },
  {
   "cell_type": "markdown",
   "id": "513e1ddf-4f93-4f0c-aabd-423d269f2305",
   "metadata": {},
   "source": [
    "* Phython program to find Area of circle\n",
    "\n",
    "Area of circle=Pi * Radius**2\n",
    "\n"
   ]
  },
  {
   "cell_type": "code",
   "execution_count": 6,
   "id": "0dca7ddc-3268-42ea-87a1-65bf80e8892d",
   "metadata": {},
   "outputs": [
    {
     "name": "stdout",
     "output_type": "stream",
     "text": [
      "Area of Circle:   50.24\n"
     ]
    }
   ],
   "source": [
    "Radius=4\n",
    "pi=3.14\n",
    "\n",
    "area=pi*(Radius**2)\n",
    "print(\"Area of Circle:  \",area)\n"
   ]
  },
  {
   "cell_type": "markdown",
   "id": "4797ac6e-5874-4779-8589-09c6913d04c9",
   "metadata": {},
   "source": [
    "* Phython program to check the given number is Prime or Not"
   ]
  },
  {
   "cell_type": "code",
   "execution_count": 43,
   "id": "0368d3f4-8acf-477b-be05-7101f2b0c66d",
   "metadata": {},
   "outputs": [
    {
     "name": "stdout",
     "output_type": "stream",
     "text": [
      "13  is a PRIME NUMBER\n"
     ]
    }
   ],
   "source": [
    "val1=13\n",
    "sm=0\n",
    "rng=range(1,val1+1)\n",
    "i=1\n",
    "while i<=max(rng):\n",
    "    if val1%i==0:\n",
    "        sm=sm+1\n",
    "        #print(\"values of I  \",i,\" Value of sm is \",sm)\n",
    "        i=i+1\n",
    "    else:\n",
    "        i=i+1\n",
    "        #print(i,sm)\n",
    "else:\n",
    "    if sm<=2:\n",
    "        print(val1,\" is a PRIME NUMBER\" )\n",
    "    else:\n",
    "        print(val1, \" is not a PRIME NUMBER\")"
   ]
  },
  {
   "cell_type": "markdown",
   "id": "fe4b1948-5687-4061-af1c-a9200c3f3bc6",
   "metadata": {},
   "source": [
    "* Phython program to find all Primer numbers in an interval, values given by user"
   ]
  },
  {
   "cell_type": "code",
   "execution_count": null,
   "id": "92d98ab0-7c82-43cd-a8ff-bc2fcc4ce50f",
   "metadata": {},
   "outputs": [],
   "source": [
    "pvalues=[1,10,11,12,13,14]\n",
    "\n",
    "primelist=[]\n",
    "for i in pvalues:\n",
    "    s=0\n",
    "    cnt=i\n",
    "    for j in range(1,cnt+1):\n",
    "        if i%j==0:\n",
    "                s=s+1\n",
    "                #print(s)\n",
    "    if s<=2:\n",
    "        primelist.append(i)\n",
    "        #print(\"I is\",i)\n",
    "else:\n",
    "    print(\"List of prime numbers : \",primelist)\n",
    "    \n",
    "    "
   ]
  },
  {
   "cell_type": "code",
   "execution_count": null,
   "id": "716f53c8-c912-4ef5-9528-d487c0dddc95",
   "metadata": {},
   "outputs": [],
   "source": []
  }
 ],
 "metadata": {
  "kernelspec": {
   "display_name": "Python 3 (ipykernel)",
   "language": "python",
   "name": "python3"
  },
  "language_info": {
   "codemirror_mode": {
    "name": "ipython",
    "version": 3
   },
   "file_extension": ".py",
   "mimetype": "text/x-python",
   "name": "python",
   "nbconvert_exporter": "python",
   "pygments_lexer": "ipython3",
   "version": "3.9.7"
  }
 },
 "nbformat": 4,
 "nbformat_minor": 5
}
